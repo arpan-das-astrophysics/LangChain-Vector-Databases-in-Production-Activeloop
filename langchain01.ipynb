{
  "nbformat": 4,
  "nbformat_minor": 0,
  "metadata": {
    "colab": {
      "provenance": [],
      "authorship_tag": "ABX9TyMHbyysSjzetWG60kL3j6sz",
      "include_colab_link": true
    },
    "kernelspec": {
      "name": "python3",
      "display_name": "Python 3"
    },
    "language_info": {
      "name": "python"
    }
  },
  "cells": [
    {
      "cell_type": "markdown",
      "metadata": {
        "id": "view-in-github",
        "colab_type": "text"
      },
      "source": [
        "<a href=\"https://colab.research.google.com/github/arpan-das-astrophysics/LangChain-Vector-Databases-in-Production-Activeloop/blob/main/langchain01.ipynb\" target=\"_parent\"><img src=\"https://colab.research.google.com/assets/colab-badge.svg\" alt=\"Open In Colab\"/></a>"
      ]
    },
    {
      "cell_type": "code",
      "execution_count": null,
      "metadata": {
        "id": "BrBCDJdtXKpw"
      },
      "outputs": [],
      "source": [
        "pip install langchain==0.0.208 deeplake openai tiktoken"
      ]
    },
    {
      "cell_type": "markdown",
      "source": [
        "# **The LLMs**\n",
        "The fundamental component of LangChain involves invoking an LLM with a specific input. To illustrate this, we'll explore a simple example. Let's imagine we are building a service that suggests personalized workout routines based on an individual's fitness goals and preferences.\n",
        "\n",
        "To accomplish this, we will first need to import the LLM wrapper."
      ],
      "metadata": {
        "id": "Y0gF96poXOz4"
      }
    },
    {
      "cell_type": "code",
      "source": [
        "from langchain.llms import OpenAI"
      ],
      "metadata": {
        "id": "-H3eqkaOXhgd"
      },
      "execution_count": 2,
      "outputs": []
    },
    {
      "cell_type": "markdown",
      "source": [
        "The temperature parameter in OpenAI models manages the randomness of the output. When set to 0, the output is mostly predetermined and suitable for tasks requiring stability and the most probable result. At a setting of 1.0, the output can be inconsistent and interesting but isn't generally advised for most tasks. For creative tasks, a temperature between 0.70 and 0.90 offers a balance of reliability and creativity. The best setting should be determined by experimenting with different values for each specific use case. The code initializes the GPT-3 model’s Davinci variant. We will learn more about the various models and their differences later on."
      ],
      "metadata": {
        "id": "fDqs-d-uYRsQ"
      }
    },
    {
      "cell_type": "code",
      "source": [
        "from getpass import getpass\n",
        "import os\n",
        "os.environ[\"OPENAI_API_KEY\"] = getpass()"
      ],
      "metadata": {
        "colab": {
          "base_uri": "https://localhost:8080/"
        },
        "id": "WTWlAVp9XlaI",
        "outputId": "04a5b10b-348c-4cb2-c505-fd66925c4cf4"
      },
      "execution_count": 3,
      "outputs": [
        {
          "name": "stdout",
          "output_type": "stream",
          "text": [
            "··········\n"
          ]
        }
      ]
    },
    {
      "cell_type": "code",
      "source": [
        "llm = OpenAI(model=\"text-davinci-003\", temperature=0.9)"
      ],
      "metadata": {
        "id": "aSb9MXm7Zfz1"
      },
      "execution_count": 5,
      "outputs": []
    },
    {
      "cell_type": "markdown",
      "source": [
        "Now we can call it on some input"
      ],
      "metadata": {
        "id": "HrM7ipLjZmft"
      }
    },
    {
      "cell_type": "code",
      "source": [
        "text = \"Suggest a personalized workout routine for someone looking to improve cardiovascular endurance and prefers outdoor activities.\"\n",
        "print(llm(text))"
      ],
      "metadata": {
        "id": "Baa3GegOZiY8",
        "colab": {
          "base_uri": "https://localhost:8080/"
        },
        "outputId": "cd54a9ef-bdcd-4b6e-99ca-99c9cd3c9d64"
      },
      "execution_count": 6,
      "outputs": [
        {
          "output_type": "stream",
          "name": "stdout",
          "text": [
            "\n",
            "\n",
            "1. Warm-up jog: 10 minutes \n",
            "2. Interval sprints: Run at a moderate pace for 3 minutes, then sprint for 1 minute, repeat 3 times \n",
            "3. Hill workouts: Find a hill and alternate jogging up for 2 minutes and walking back down for 1 minute, repeat 8 times \n",
            "4. Bodyweight exercises: Do squats, burpees, and mountain climbers for 3 sets of 20 reps \n",
            "5. Stairs: Find a flight of stairs and alternate running up and down for 3 sets \n",
            "6. Jumping jacks: Do 3 sets of 20 reps \n",
            "7. Cool-down jog: 10 minutes \n",
            "\n",
            "Total duration: approx. 45-60 minutes.\n"
          ]
        }
      ]
    },
    {
      "cell_type": "markdown",
      "source": [
        "# **The Chains**\n",
        "In LangChain, a chain is an end-to-end wrapper around multiple individual components, providing a way to accomplish a common use case by combining these components in a specific sequence. The most commonly used type of chain is the LLMChain, which consists of a PromptTemplate, a model (either an LLM or a ChatModel), and an optional output parser.\n",
        "\n",
        "The LLMChain works as follows:\n",
        "\n",
        "Takes (multiple) input variables.\n",
        "Uses the PromptTemplate to format the input variables into a prompt.\n",
        "Passes the formatted prompt to the model (LLM or ChatModel).\n",
        "If an output parser is provided, it uses the OutputParser to parse the output of the LLM into a final format.\n",
        "In the next example, we demonstrate how to create a chain that generates a possible name for a company that produces eco-friendly water bottles. By using LangChain's LLMChain, PromptTemplate, and OpenAIclasses, we can easily define our prompt, set the input variables, and generate creative outputs."
      ],
      "metadata": {
        "id": "8vEioCQG1TjK"
      }
    },
    {
      "cell_type": "code",
      "source": [
        "from langchain.prompts import PromptTemplate\n",
        "from langchain.llms import OpenAI\n",
        "from langchain.chains import LLMChain\n",
        "\n",
        "llm = OpenAI(model=\"text-davinci-003\", temperature=0.9)\n",
        "\n",
        "prompt = PromptTemplate(\n",
        "    input_variables=[\"product\"],\n",
        "    template=\"What is a good name for a company that makes {product}?\",\n",
        ")\n",
        "\n",
        "chain = LLMChain(llm=llm, prompt=prompt)\n",
        "\n",
        "# Run the chain only specifying the input variable.\n",
        "print(chain.run(\"eco-friendly water bottles\"))"
      ],
      "metadata": {
        "id": "8gBRL8lqZpVb",
        "colab": {
          "base_uri": "https://localhost:8080/"
        },
        "outputId": "790cad7b-b66b-44e5-f1f7-b5137081760b"
      },
      "execution_count": 8,
      "outputs": [
        {
          "output_type": "stream",
          "name": "stdout",
          "text": [
            "\n",
            "\n",
            "Eco's Hydration Co.\n"
          ]
        }
      ]
    },
    {
      "cell_type": "code",
      "source": [],
      "metadata": {
        "id": "lWpm-KwK1sGt"
      },
      "execution_count": null,
      "outputs": []
    }
  ]
}